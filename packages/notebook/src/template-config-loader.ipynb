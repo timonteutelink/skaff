{
 "cells": [
  {
   "cell_type": "code",
   "execution_count": 1,
   "id": "e19f7b26-0919-4393-91c4-96e8625c4e78",
   "metadata": {},
   "outputs": [
    {
     "data": {
      "text/plain": [
       "\u001b[32m\"/home/tteutelink/projects/timon/skaff/packages/notebook/src\"\u001b[39m"
      ]
     },
     "execution_count": 1,
     "metadata": {},
     "output_type": "execute_result"
    }
   ],
   "source": [
    "process.cwd()"
   ]
  },
  {
   "cell_type": "code",
   "execution_count": 2,
   "id": "2cc6630f-dbc0-4f9e-a3b3-07cea27f514d",
   "metadata": {},
   "outputs": [
    {
     "ename": "SyntaxError",
     "evalue": "The requested module '@timonteutelink/template-types-lib' does not provide an export named 'templateConfigSchema' at file:///home/tteutelink/projects/timon/skaff/packages/ts/src/loaders/template-config-loader.ts:3:3",
     "output_type": "error",
     "traceback": [
      "Stack trace:",
      "SyntaxError: The requested module '@timonteutelink/template-types-lib' does not provide an export named 'templateConfigSchema' at file:///home/tteutelink/projects/timon/skaff/packages/ts/src/loaders/template-config-loader.ts:3:3",
      "    at async <anonymous>:1:85"
     ]
    }
   ],
   "source": [
    "import {\n",
    "  loadAllTemplateConfigs,\n",
    "  TemplateConfigWithFileInfo,\n",
    "} from \"@timonteutelink/skaff-lib/loaders/template-config-loader\";"
   ]
  },
  {
   "cell_type": "code",
   "execution_count": 3,
   "id": "aab63af5-f8c2-46d6-844e-713fad2683b1",
   "metadata": {},
   "outputs": [],
   "source": [
    "const loadedConfigs = await loadAllTemplateConfigs(\"/home/tteutelink/projects/timon/timon-templates/root-templates/helm-chart\")"
   ]
  },
  {
   "cell_type": "code",
   "execution_count": 10,
   "id": "d03e1a8f-349f-4516-9cff-f3ac3a728aa9",
   "metadata": {},
   "outputs": [
    {
     "name": "stdout",
     "output_type": "stream",
     "text": [
      "../../extra-templates/github/templateConfig.ts\n",
      "{\n",
      "  name: \u001b[32m\"project_github_folder\"\u001b[39m,\n",
      "  author: \u001b[32m\"Timon Teutelink\"\u001b[39m,\n",
      "  description: \u001b[32m\"Template for the .github folder in any project. Will contain all kinds of actions.\"\u001b[39m\n",
      "}\n",
      "../../extra-templates/github/workflows/push-helm-aws/templateConfig.ts\n",
      "{\n",
      "  name: \u001b[32m\"github_actions_push_helm_ecr\"\u001b[39m,\n",
      "  author: \u001b[32m\"Timon Teutelink\"\u001b[39m,\n",
      "  description: \u001b[32m\"Template for a github actions workflow for pushing a helm chart to ECR\"\u001b[39m\n",
      "}\n",
      "resources/deployment/templateConfig.ts\n",
      "{\n",
      "  name: \u001b[32m\"helm_chart_deployment\"\u001b[39m,\n",
      "  author: \u001b[32m\"Timon Teutelink\"\u001b[39m,\n",
      "  description: \u001b[32m\"Template for a kubernetes deployment using a helm chart.\"\u001b[39m,\n",
      "  multiInstance: \u001b[33mtrue\u001b[39m\n",
      "}\n",
      "resources/ingress/templateConfig.ts\n",
      "{\n",
      "  name: \u001b[32m\"helm_chart_ingress\"\u001b[39m,\n",
      "  author: \u001b[32m\"Timon Teutelink\"\u001b[39m,\n",
      "  description: \u001b[32m\"Template for a Kubernetes Ingress resource.\"\u001b[39m,\n",
      "  multiInstance: \u001b[33mtrue\u001b[39m\n",
      "}\n",
      "templateConfig.ts\n",
      "{\n",
      "  name: \u001b[32m\"helm_chart\"\u001b[39m,\n",
      "  author: \u001b[32m\"Timon Teutelink\"\u001b[39m,\n",
      "  description: \u001b[32m\"Full repository template for a helm chart.\"\u001b[39m\n",
      "}\n"
     ]
    }
   ],
   "source": [
    "for (const [templateConfigPath, templateConfigModule] of Object.entries(loadedConfigs)) {\n",
    "  console.log(templateConfigPath);\n",
    "  console.log(templateConfigModule.templateConfig.templateConfig);\n",
    "}"
   ]
  },
  {
   "cell_type": "code",
   "execution_count": null,
   "id": "55375ca1-032d-475f-aded-4bac087b57ff",
   "metadata": {},
   "outputs": [],
   "source": []
  },
  {
   "cell_type": "code",
   "execution_count": null,
   "id": "9a313090-82fd-4042-aa1a-738a46dae05c",
   "metadata": {},
   "outputs": [],
   "source": []
  }
 ],
 "metadata": {
  "kernelspec": {
   "display_name": "Deno",
   "language": "typescript",
   "name": "deno"
  },
  "language_info": {
   "codemirror_mode": "typescript",
   "file_extension": ".ts",
   "mimetype": "text/x.typescript",
   "name": "typescript",
   "nbconvert_exporter": "script",
   "pygments_lexer": "typescript",
   "version": "5.7.3"
  }
 },
 "nbformat": 4,
 "nbformat_minor": 5
}
